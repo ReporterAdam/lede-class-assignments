{
 "cells": [
  {
   "cell_type": "code",
   "execution_count": null,
   "id": "a17862c4-955e-4628-b8d6-e33f6e0b18b0",
   "metadata": {},
   "outputs": [],
   "source": [
    "# Adam Friedman\n",
    "# 6-9-24\n",
    "# Homework 4, Pokemon"
   ]
  },
  {
   "cell_type": "code",
   "execution_count": 22,
   "id": "08ad0d20-8be2-4837-9ec1-9ed29bf15f2c",
   "metadata": {},
   "outputs": [],
   "source": [
    "import requests\n",
    "import json \n",
    "\n",
    "url = 'https://pokeapi.co/api/v2/pokemon/55'\n",
    "data = requests.get(url).json()"
   ]
  },
  {
   "cell_type": "code",
   "execution_count": 23,
   "id": "e6ecc38e-e53c-4829-b48d-f7736eab63ad",
   "metadata": {},
   "outputs": [],
   "source": [
    "# 1. What is the URL to the documentation? \n",
    "# Answer: What is the URL to the documentation?"
   ]
  },
  {
   "cell_type": "code",
   "execution_count": 24,
   "id": "e66a5336-5348-4524-8b2f-9ca2bb543963",
   "metadata": {},
   "outputs": [],
   "source": [
    "# 2. What pokemon has the ID of 55?\n",
    "# Answer Goldluck"
   ]
  },
  {
   "cell_type": "code",
   "execution_count": 25,
   "id": "bb4ebf2d-e7c4-4ed6-96d7-fda2fa392424",
   "metadata": {},
   "outputs": [],
   "source": [
    "# 3. How tall is that pokemon?"
   ]
  },
  {
   "cell_type": "code",
   "execution_count": 36,
   "id": "cc45728e-7b23-4d13-839b-62384bf3be7d",
   "metadata": {},
   "outputs": [
    {
     "name": "stdout",
     "output_type": "stream",
     "text": [
      "Golduck is 17 inches tall.\n"
     ]
    }
   ],
   "source": [
    "height = data['height']\n",
    "name = data['name']\n",
    "name = name.title()\n",
    "print(f'{name} is {height} decimetres tall.')\n",
    "\n",
    "# API Documenation says in decimetres. I don't want to convert that to inches. "
   ]
  },
  {
   "cell_type": "code",
   "execution_count": null,
   "id": "21f71468-8f64-4868-bdb3-e0c0d728b22c",
   "metadata": {},
   "outputs": [],
   "source": [
    "# 4. How many versions of Pokemon games have been released?"
   ]
  },
  {
   "cell_type": "code",
   "execution_count": 40,
   "id": "5648f829-74a0-4c8b-8e14-433f9707ed76",
   "metadata": {},
   "outputs": [],
   "source": [
    "url_version = 'https://pokeapi.co/api/v2/version'\n",
    "data_version = requests.get(url_version).json()"
   ]
  },
  {
   "cell_type": "code",
   "execution_count": 44,
   "id": "35b9eb98-88bd-4cec-b702-532f026f430d",
   "metadata": {},
   "outputs": [
    {
     "name": "stdout",
     "output_type": "stream",
     "text": [
      "There have been 43 versions of Pokemon released.\n"
     ]
    }
   ],
   "source": [
    "count = data_version['count']\n",
    "print(f'There have been {count} versions of Pokemon released.')"
   ]
  },
  {
   "cell_type": "code",
   "execution_count": null,
   "id": "e72b28e9-3483-4f34-b068-2062698e53aa",
   "metadata": {},
   "outputs": [],
   "source": [
    "# 5. Print out the name of every electric-type pokemon."
   ]
  },
  {
   "cell_type": "code",
   "execution_count": 104,
   "id": "bbb76c52-7e24-4ebd-956f-b9c43b10f265",
   "metadata": {},
   "outputs": [
    {
     "name": "stdout",
     "output_type": "stream",
     "text": [
      "pikachu\n",
      "raichu\n",
      "magnemite\n",
      "magneton\n",
      "voltorb\n",
      "electrode\n",
      "electabuzz\n",
      "jolteon\n",
      "zapdos\n",
      "chinchou\n",
      "lanturn\n",
      "pichu\n",
      "mareep\n",
      "flaaffy\n",
      "ampharos\n",
      "elekid\n",
      "raikou\n",
      "electrike\n",
      "manectric\n",
      "plusle\n",
      "minun\n",
      "shinx\n",
      "luxio\n",
      "luxray\n",
      "pachirisu\n",
      "magnezone\n",
      "electivire\n",
      "rotom\n",
      "blitzle\n",
      "zebstrika\n",
      "emolga\n",
      "joltik\n",
      "galvantula\n",
      "tynamo\n",
      "eelektrik\n",
      "eelektross\n",
      "stunfisk\n",
      "thundurus-incarnate\n",
      "zekrom\n",
      "helioptile\n",
      "heliolisk\n",
      "dedenne\n",
      "charjabug\n",
      "vikavolt\n",
      "togedemaru\n",
      "tapu-koko\n",
      "xurkitree\n",
      "zeraora\n",
      "yamper\n",
      "boltund\n",
      "toxel\n",
      "toxtricity-amped\n",
      "pincurchin\n",
      "morpeko-full-belly\n",
      "dracozolt\n",
      "arctozolt\n",
      "regieleki\n",
      "pawmi\n",
      "pawmo\n",
      "pawmot\n",
      "tadbulb\n",
      "bellibolt\n",
      "wattrel\n",
      "kilowattrel\n",
      "sandy-shocks\n",
      "iron-hands\n",
      "iron-thorns\n",
      "miraidon\n",
      "raging-bolt\n",
      "rotom-heat\n",
      "rotom-wash\n",
      "rotom-frost\n",
      "rotom-fan\n",
      "rotom-mow\n",
      "thundurus-therian\n",
      "ampharos-mega\n",
      "manectric-mega\n",
      "pikachu-rock-star\n",
      "pikachu-belle\n",
      "pikachu-pop-star\n",
      "pikachu-phd\n",
      "pikachu-libre\n",
      "pikachu-cosplay\n",
      "pikachu-original-cap\n",
      "pikachu-hoenn-cap\n",
      "pikachu-sinnoh-cap\n",
      "pikachu-unova-cap\n",
      "pikachu-kalos-cap\n",
      "pikachu-alola-cap\n",
      "raichu-alola\n",
      "geodude-alola\n",
      "graveler-alola\n",
      "golem-alola\n",
      "vikavolt-totem\n",
      "oricorio-pom-pom\n",
      "pikachu-partner-cap\n",
      "togedemaru-totem\n",
      "pikachu-starter\n",
      "pikachu-world-cap\n",
      "toxtricity-low-key\n",
      "morpeko-hangry\n",
      "pikachu-gmax\n",
      "toxtricity-amped-gmax\n",
      "toxtricity-low-key-gmax\n",
      "voltorb-hisui\n",
      "electrode-hisui\n",
      "miraidon-low-power-mode\n",
      "miraidon-drive-mode\n",
      "miraidon-aquatic-mode\n",
      "miraidon-glide-mode\n"
     ]
    }
   ],
   "source": [
    "url_electric = 'https://pokeapi.co/api/v2/type/electric'\n",
    "data_electric = requests.get(url_electric).json()\n",
    "\n",
    "electric_pokemon_list = data_electric['pokemon']\n",
    "for item in electric_pokemon_list:\n",
    "    pokemon_name = item['pokemon']['name']\n",
    "    print(pokemon_name)\n",
    "\n",
    "\n"
   ]
  },
  {
   "cell_type": "code",
   "execution_count": null,
   "id": "7f963358-78fe-4648-805e-a8757ac45d0b",
   "metadata": {},
   "outputs": [],
   "source": [
    "# 6. What are electric-type Pokemon called in the Korean version of the game? \n",
    "#(i.e. what do they call electric-type pokemon in Korean if not \"electric\")"
   ]
  },
  {
   "cell_type": "code",
   "execution_count": 143,
   "id": "600cd955-75fd-47fb-8c26-a49ab59f9f9d",
   "metadata": {},
   "outputs": [
    {
     "name": "stdout",
     "output_type": "stream",
     "text": [
      "In Korea an electric type pokemon is called 전기.\n"
     ]
    }
   ],
   "source": [
    "name = data_electric['names']\n",
    "for item in name:\n",
    "    if item['language']['name'] == 'ko':\n",
    "        electric_korean = item['name']\n",
    "        print(f'In Korea an electric type pokemon is called {electric_korean}.')\n",
    "       \n"
   ]
  },
  {
   "cell_type": "code",
   "execution_count": null,
   "id": "dbecdd76-cd6c-49be-a60f-36642a2438d7",
   "metadata": {},
   "outputs": [],
   "source": [
    "# 7. Who has a higher speed stat, Eevee or Pikachu?"
   ]
  },
  {
   "cell_type": "code",
   "execution_count": 176,
   "id": "467fdd3e-f6c6-4529-a9e2-8694313f4693",
   "metadata": {},
   "outputs": [
    {
     "name": "stdout",
     "output_type": "stream",
     "text": [
      "ability\n",
      "berry\n",
      "berry-firmness\n",
      "berry-flavor\n",
      "characteristic\n",
      "contest-effect\n",
      "contest-type\n",
      "egg-group\n",
      "encounter-condition\n",
      "encounter-condition-value\n",
      "encounter-method\n",
      "evolution-chain\n",
      "evolution-trigger\n",
      "gender\n",
      "generation\n",
      "growth-rate\n",
      "item\n",
      "item-attribute\n",
      "item-category\n",
      "item-fling-effect\n",
      "item-pocket\n",
      "language\n",
      "location\n",
      "location-area\n",
      "machine\n",
      "move\n",
      "move-ailment\n",
      "move-battle-style\n",
      "move-category\n",
      "move-damage-class\n",
      "move-learn-method\n",
      "move-target\n",
      "nature\n",
      "pal-park-area\n",
      "pokeathlon-stat\n",
      "pokedex\n",
      "pokemon\n",
      "pokemon-color\n",
      "pokemon-form\n",
      "pokemon-habitat\n",
      "pokemon-shape\n",
      "pokemon-species\n",
      "region\n",
      "stat\n",
      "super-contest-effect\n",
      "type\n",
      "version\n",
      "version-group\n",
      "raticate\n",
      "raticate\n",
      "raticate\n",
      "raticate\n",
      "raticate\n",
      "raticate\n",
      "raticate\n",
      "raticate\n",
      "raticate\n",
      "raticate\n",
      "raticate\n",
      "raticate\n",
      "raticate\n",
      "raticate\n",
      "raticate\n",
      "raticate\n",
      "raticate\n",
      "raticate\n",
      "raticate\n",
      "raticate\n",
      "raticate\n",
      "raticate\n",
      "raticate\n",
      "raticate\n",
      "raticate\n",
      "raticate\n",
      "raticate\n",
      "raticate\n",
      "raticate\n",
      "raticate\n",
      "raticate\n",
      "raticate\n",
      "raticate\n",
      "raticate\n"
     ]
    }
   ],
   "source": [
    "url_pokemon_name = 'https://pokeapi.co/api/v2'\n",
    "data_url_pokemon_name = requests.get(url_pokemon_name).json()\n",
    "\n",
    "url_pokemon_speed = 'https://pokeapi.co/api/v2/stat'\n",
    "data_url_pokemon_speed = requests.get(url_pokemon_speed).json()\n",
    "\n",
    "#Didn't finish, but need to go to bed\n",
    "\n"
   ]
  },
  {
   "cell_type": "code",
   "execution_count": null,
   "id": "e3946e21-6900-4aff-8d9f-38f71f040ea3",
   "metadata": {},
   "outputs": [],
   "source": []
  },
  {
   "cell_type": "code",
   "execution_count": null,
   "id": "2842b68a-0654-407a-bfcc-04d6e524a233",
   "metadata": {},
   "outputs": [],
   "source": []
  }
 ],
 "metadata": {
  "kernelspec": {
   "display_name": "Python 3 (ipykernel)",
   "language": "python",
   "name": "python3"
  },
  "language_info": {
   "codemirror_mode": {
    "name": "ipython",
    "version": 3
   },
   "file_extension": ".py",
   "mimetype": "text/x-python",
   "name": "python",
   "nbconvert_exporter": "python",
   "pygments_lexer": "ipython3",
   "version": "3.11.8"
  }
 },
 "nbformat": 4,
 "nbformat_minor": 5
}
