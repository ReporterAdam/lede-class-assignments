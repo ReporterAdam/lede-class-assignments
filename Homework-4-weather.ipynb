{
 "cells": [
  {
   "cell_type": "code",
   "execution_count": 2,
   "id": "ca89f81b-9a15-4c0a-bb20-9046d8bad5ba",
   "metadata": {},
   "outputs": [],
   "source": [
    "# Part 2: Tornadoes"
   ]
  },
  {
   "cell_type": "code",
   "execution_count": null,
   "id": "44a10c49-6687-4657-b980-ccd8f340bd7c",
   "metadata": {},
   "outputs": [],
   "source": [
    "#1. What is the url documentation?"
   ]
  },
  {
   "cell_type": "code",
   "execution_count": null,
   "id": "3012817b-cd99-4f1f-b393-5cb646a28547",
   "metadata": {},
   "outputs": [],
   "source": [
    "\n",
    "#Answer: http://api.weatherapi.com/v1/current.json?key=3e7f2551ab004b309c8142357240906&q=Nashville&aqi=no"
   ]
  },
  {
   "cell_type": "code",
   "execution_count": null,
   "id": "5ec6712c-5771-4dbb-b667-b579f6613bb9",
   "metadata": {},
   "outputs": [],
   "source": [
    "#2. Make a request for the current weather where you are born, or somewhere you've lived."
   ]
  },
  {
   "cell_type": "code",
   "execution_count": 46,
   "id": "5ac0b600-b492-4e25-ac2a-fe5e51f6a1f6",
   "metadata": {},
   "outputs": [],
   "source": [
    "import requests\n",
    "import json"
   ]
  },
  {
   "cell_type": "code",
   "execution_count": 50,
   "id": "16802f59-001e-4e15-88cd-b19f34d03fbb",
   "metadata": {},
   "outputs": [],
   "source": [
    "url = \"http://api.weatherapi.com/v1/current.json?key=3e7f2551ab004b309c8142357240906&q=Nashville&aqi=no\"\n",
    "data = requests.get(url).json()"
   ]
  },
  {
   "cell_type": "code",
   "execution_count": 51,
   "id": "8dc523d1-c3e8-41a1-a44f-c6ceb95f0ec7",
   "metadata": {},
   "outputs": [],
   "source": [
    "# 3. Print out the country this location is in"
   ]
  },
  {
   "cell_type": "code",
   "execution_count": 63,
   "id": "546e8c39-a29d-4e92-813e-97a05fae4ee6",
   "metadata": {},
   "outputs": [
    {
     "name": "stdout",
     "output_type": "stream",
     "text": [
      "My weather key is located in United States of America.\n"
     ]
    }
   ],
   "source": [
    "location = data['location']\n",
    "print(f\"My weather key is located in {location['country']}.\")"
   ]
  },
  {
   "cell_type": "code",
   "execution_count": null,
   "id": "f5a470da-6802-4d8b-9d81-3d98ed880e56",
   "metadata": {},
   "outputs": [],
   "source": [
    "# 4. Print out the difference between the current temperature and how warm it feels. Use \"It feels ___ degrees colder\" or \n",
    "# \"It feels ___ degrees warmer,\" not negative numbers."
   ]
  },
  {
   "cell_type": "code",
   "execution_count": 106,
   "id": "687d98a9-aa20-48ce-a419-ec24408eaa58",
   "metadata": {},
   "outputs": [
    {
     "name": "stdout",
     "output_type": "stream",
     "text": [
      "78\n",
      "84\n",
      "It feels 6  degrees Fahrenheit colder outside then the current temp\n"
     ]
    }
   ],
   "source": [
    "current = data['current']\n",
    "current_temp_f = current['temp_f']\n",
    "feelslike_f = current['feelslike_f']\n",
    "current_temp_f = int(current_temp_f)\n",
    "feelslike_f = int(feelslike_f)\n",
    "if current_temp_f > feelslike_f:\n",
    "    temp = current_temp_f - feelslike_f\n",
    "    print(f\"It feels {temp}  degrees Fahrenheit colder outside then the current temp\")\n",
    "elif feelslike_f > current_temp_f:\n",
    "    temp = feelslike_f - current_temp_f\n",
    "    print(f\"It feels {temp}  degrees Fahrenheit warmer outside then the current temp\")\n",
    "\n",
    "    "
   ]
  },
  {
   "cell_type": "code",
   "execution_count": null,
   "id": "a17be159-457b-4985-989a-1f361cab0a2e",
   "metadata": {},
   "outputs": [],
   "source": [
    "#5 What's the current temperature at Heathrow International Airport? Use the airport's IATA code to search."
   ]
  },
  {
   "cell_type": "code",
   "execution_count": null,
   "id": "0b370a15-4ad5-41c5-8c9e-bd4606e56f18",
   "metadata": {},
   "outputs": [],
   "source": [
    "#Heathrow IATA code is LHR"
   ]
  },
  {
   "cell_type": "code",
   "execution_count": 112,
   "id": "771d01af-7666-469e-abc8-983acda5746a",
   "metadata": {},
   "outputs": [],
   "source": [
    "url_LHR = \"http://api.weatherapi.com/v1/current.json?key=3e7f2551ab004b309c8142357240906&q=LHR&aqi=no\"\n",
    "data_LHR = requests.get(url_LHR).json()"
   ]
  },
  {
   "cell_type": "code",
   "execution_count": 113,
   "id": "d54be99e-5d2e-4916-9935-6596325ff340",
   "metadata": {},
   "outputs": [
    {
     "name": "stdout",
     "output_type": "stream",
     "text": [
      "It is 59.4 degrees Fahrenheit at Heathrow International Airport in London, England\n"
     ]
    }
   ],
   "source": [
    "current_LHR = data_LHR ['current']\n",
    "current_temp_f_LHR = current_LHR['temp_f']\n",
    "print(f'It is {current_temp_f_LHR} degrees Fahrenheit at Heathrow International Airport in London, England.')"
   ]
  },
  {
   "cell_type": "code",
   "execution_count": null,
   "id": "aaddef0f-7c44-444c-a4b7-ee3a555861a3",
   "metadata": {},
   "outputs": [],
   "source": [
    "# 6. What URL would I use to request a 3-day forecast at Heathrow?"
   ]
  },
  {
   "cell_type": "code",
   "execution_count": null,
   "id": "0e4f539b-2836-436c-98c7-eaa7f1e1725c",
   "metadata": {},
   "outputs": [],
   "source": [
    "# Answer: http://api.weatherapi.com/v1/forecast.json?key=3e7f2551ab004b309c8142357240906&q=LHR&days=3&aqi=no&alerts=no\n"
   ]
  },
  {
   "cell_type": "code",
   "execution_count": null,
   "id": "d6dc34e0-14e9-432f-997f-fb049563ed7e",
   "metadata": {},
   "outputs": [],
   "source": [
    "# 7. Print the date of each of the 3 days you're getting a forecast for."
   ]
  },
  {
   "cell_type": "code",
   "execution_count": 139,
   "id": "016a019a-d0a1-4044-b018-761ce2b22d69",
   "metadata": {},
   "outputs": [
    {
     "name": "stdout",
     "output_type": "stream",
     "text": [
      "2024-06-09\n",
      "2024-06-10\n",
      "2024-06-11\n"
     ]
    }
   ],
   "source": [
    "url_LHR_three_day = \"http://api.weatherapi.com/v1/forecast.json?key=3e7f2551ab004b309c8142357240906&q=LHR&days=3&aqi=no&alerts=no\"\n",
    "data_LHR_three_day = requests.get(url_LHR_three_day).json()\n",
    "forecast_LHR = data_LHR_three_day['forecast']\n",
    "forecast_day_LHR = forecast_LHR['forecastday']\n",
    "for data_keys in forecast_day_LHR:\n",
    "    print(data_keys['date'])"
   ]
  },
  {
   "cell_type": "code",
   "execution_count": null,
   "id": "131423a6-f514-4a73-8539-c23bbac11e3e",
   "metadata": {},
   "outputs": [],
   "source": [
    "# 8. Print the maximum temperature of each of the days."
   ]
  },
  {
   "cell_type": "code",
   "execution_count": 164,
   "id": "50294555-27d5-4b0a-9c78-cc148b795039",
   "metadata": {},
   "outputs": [
    {
     "name": "stdout",
     "output_type": "stream",
     "text": [
      "2024-06-09 : 61.4 degrees Fahrenheit\n",
      "2024-06-10 : 58.6 degrees Fahrenheit\n",
      "2024-06-11 : 59.2 degrees Fahrenheit\n"
     ]
    }
   ],
   "source": [
    "for data_keys in forecast_day_LHR:\n",
    "    temp = data_keys['day']\n",
    "    max_temp = temp['maxtemp_f']\n",
    "    date = data_keys['date']\n",
    "    print(f\"{date} : {max_temp} degrees Fahrenheit.\")"
   ]
  },
  {
   "cell_type": "code",
   "execution_count": null,
   "id": "6ac224ef-7f66-44b2-8068-1c37a8ee96cf",
   "metadata": {},
   "outputs": [],
   "source": [
    "# 9. Print only the day with the highest maximum temperature"
   ]
  },
  {
   "cell_type": "code",
   "execution_count": 203,
   "id": "da4752fc-9b5f-415f-a5e8-282fba404d2a",
   "metadata": {},
   "outputs": [
    {
     "name": "stdout",
     "output_type": "stream",
     "text": [
      "The day with the highest maximum temperature at Heathrow Airport in London, England is 2024-06-09 with a temperature of 61.4 degrees Fahrenheit.\n"
     ]
    }
   ],
   "source": [
    "for data_keys in forecast_day_LHR:\n",
    "    temp = data_keys['day']\n",
    "    max_temp = float(temp['maxtemp_f'])\n",
    "    date = data_keys['date']\n",
    "    if max_temp > max_temp_value:\n",
    "        max_temp_value = max_temp\n",
    "        max_temp_day = date\n",
    "\n",
    "print(f\"The day with the highest maximum temperature at Heathrow Airport in London, England is {max_temp_day} with a temperature of {max_temp_value} degrees Fahrenheit.\")\n",
    "    \n",
    "    "
   ]
  },
  {
   "cell_type": "code",
   "execution_count": null,
   "id": "e6cda782-e3d6-4d42-8686-f9cd27df7f92",
   "metadata": {},
   "outputs": [],
   "source": []
  }
 ],
 "metadata": {
  "kernelspec": {
   "display_name": "Python 3 (ipykernel)",
   "language": "python",
   "name": "python3"
  },
  "language_info": {
   "codemirror_mode": {
    "name": "ipython",
    "version": 3
   },
   "file_extension": ".py",
   "mimetype": "text/x-python",
   "name": "python",
   "nbconvert_exporter": "python",
   "pygments_lexer": "ipython3",
   "version": "3.11.8"
  }
 },
 "nbformat": 4,
 "nbformat_minor": 5
}
